{
 "cells": [
  {
   "metadata": {},
   "cell_type": "markdown",
   "source": "",
   "id": "552aa511c8173ccb"
  },
  {
   "metadata": {},
   "cell_type": "markdown",
   "source": "# Population, échantillon et observations.",
   "id": "8737673f59bf989e"
  },
  {
   "metadata": {},
   "cell_type": "markdown",
   "source": [
    "### Une population statistique est l'ensemble sur lequel on effectue des observations. \n",
    "\n",
    "###  un individu, un type est un élément d'un ensemble, généralement appelé « population », dont on mesure (ou observe) la valeur qu'il a pour la variable étudiée\n",
    "### un échantillon est un ensemble d'individus représentatifs d'une population. \n",
    "### Une observation est une caractéristique ou un chiffre collecté pour une variable donnée. "
   ],
   "id": "821ba7e750689f96"
  },
  {
   "metadata": {},
   "cell_type": "markdown",
   "source": "# Les Variables",
   "id": "c637ba49d11ea6bd"
  },
  {
   "metadata": {},
   "cell_type": "markdown",
   "source": "### Si nous avons spécifié la population d'intérêt pour une question de recherche spécifique, nous pouvons réfléchir à ce qui nous intéresse à propos de nos observations. Une caractéristique particulière de ces observations peut être collectée dans une variable statistique \\(X\\). Toute information qui nous intéresse peut être capturée dans une telle variable. Par exemple, si nos observations se réfèrent à des êtres humains, \\(X\\) peut décrire l'état matrimonial, le genre, l'âge ou tout autre aspect lié à une personne. Bien sûr, nous pouvons être intéressés par de nombreuses caractéristiques différentes, chacune collectée dans une variable différente. Chaque observation prend une valeur particulière pour \\(X\\). Si \\(X\\) se réfère au genre, chaque observation, c'est-à-dire chaque personne, a une valeur particulière \\(x\\) qui se réfère soit à \"homme\" soit à \"femme\".",
   "id": "68289a43dc481402"
  },
  {
   "metadata": {},
   "cell_type": "markdown",
   "source": "# Les variables qualitatives et quantitatives ",
   "id": "681c8a99c965711"
  },
  {
   "metadata": {},
   "cell_type": "markdown",
   "source": [
    "### Les variables qualitatives et quantitatives sont deux types de variables utilisées en statistique pour décrire les caractéristiques des observations.\n",
    "\n",
    "### Variables qualitatives\n",
    "Les variables qualitatives, également appelées variables catégorielles, sont celles qui décrivent des qualités ou des caractéristiques non numériques. Elles sont souvent classées en catégories ou en groupes distincts. Les variables qualitatives peuvent être :\n",
    "\n",
    "- **Nominales** : Les catégories n'ont pas d'ordre intrinsèque. Par exemple, le genre (homme, femme), l'état matrimonial (célibataire, marié, divorcé), la couleur des yeux (bleu, vert, marron).\n",
    "- **Ordinales** : Les catégories ont un ordre intrinsèque. Par exemple, le niveau d'éducation (primaire, secondaire, supérieur), les notes (A, B, C, D).\n",
    "\n",
    "### Variables quantitatives\n",
    "Les variables quantitatives sont celles qui expriment une quantité et peuvent être mesurées numériquement. Elles sont souvent associées à des unités de mesure et peuvent être :\n",
    "\n",
    "- **Discrètes** : Elles prennent des valeurs spécifiques et distinctes. Par exemple, le nombre d'enfants dans une famille, le nombre de voitures possédées.\n",
    "- **Continues** : Elles peuvent prendre n'importe quelle valeur dans un intervalle donné. Par exemple, la taille, le poids, la température.\n",
    "\n",
    "En résumé, les variables qualitatives décrivent des attributs non numériques tandis que les variables quantitatives mesurent des quantités numériques."
   ],
   "id": "5675de13a53ac688"
  },
  {
   "metadata": {},
   "cell_type": "markdown",
   "source": "# Variables Discrètes et Variables Continues",
   "id": "8c9d611688194856"
  },
  {
   "metadata": {},
   "cell_type": "markdown",
   "source": [
    "Les variables quantitatives se divisent en deux sous-catégories principales : les variables discrètes et les variables continues. Voici une description de chacune :\n",
    "\n",
    "### Variables Discrètes\n",
    "Les variables discrètes sont celles qui prennent des valeurs spécifiques et distinctes. Elles sont généralement le résultat du comptage d'objets ou d'événements. Les valeurs possibles d'une variable discrète sont souvent des nombres entiers, mais elles peuvent aussi être des catégories finies. \n",
    "\n",
    "**Exemples :**\n",
    "- Le nombre d'enfants dans une famille (0, 1, 2, 3, etc.).\n",
    "- Le nombre de voitures possédées par un ménage.\n",
    "- Le nombre de clients visitant un magasin en une journée.\n",
    "\n",
    "### Variables Continues\n",
    "Les variables continues peuvent prendre n'importe quelle valeur dans un intervalle donné et sont le résultat de mesures. Elles sont généralement associées à des valeurs réelles et peuvent être subdivisées en une infinité de valeurs possibles. \n",
    "\n",
    "**Exemples :**\n",
    "- La taille d'une personne (peut être 1,75 m, 1,751 m, etc., avec une précision variable).\n",
    "- Le poids d'un objet (peut être 5,2 kg, 5,25 kg, etc.).\n",
    "- La température (peut être 20°C, 20,1°C, 20,01°C, etc.).\n",
    "\n",
    "En résumé, les variables discrètes sont dénombrables et ont un nombre limité de valeurs possibles, tandis que les variables continues peuvent prendre une infinité de valeurs dans un intervalle donné et sont mesurables avec une précision variable."
   ],
   "id": "7154a57487e59ad5"
  },
  {
   "metadata": {},
   "cell_type": "markdown",
   "source": "# Les échelles de mesure ",
   "id": "d503360626d0bffc"
  },
  {
   "metadata": {},
   "cell_type": "markdown",
   "source": [
    "Les échelles de mesure sont essentielles pour comprendre la nature des variables et déterminer les méthodes d'analyse appropriées. Voici un résumé des différentes échelles mentionnées :\n",
    "\n",
    "### Échelle Nominale\n",
    "Les valeurs d'une variable nominale ne peuvent pas être ordonnées. Elles sont simplement des catégories sans hiérarchie.  \n",
    "**Exemples :**\n",
    "- Genre (homme, femme)\n",
    "- Statut d'une demande (en attente, non en attente)\n",
    "\n",
    "### Échelle Ordinale\n",
    "Les valeurs d'une variable ordinale peuvent être ordonnées, mais les différences entre ces valeurs ne peuvent pas être interprétées de manière significative.  \n",
    "**Exemples :**\n",
    "- Niveau d'éducation (aucun, éducation primaire, éducation secondaire, diplôme universitaire)\n",
    "- Satisfaction avec un produit (insatisfait, satisfait, très satisfait)\n",
    "\n",
    "### Échelle Continue\n",
    "Les valeurs d'une variable continue peuvent être ordonnées, et les différences entre ces valeurs peuvent être interprétées de manière significative. Cette échelle peut être subdivisée en sous-échelles :\n",
    "\n",
    "- **Échelle d'intervalle** : Les différences entre les valeurs peuvent être interprétées, mais les ratios ne le peuvent pas. Par exemple, la température (en degrés Celsius) : la différence entre 20°C et 30°C est de 10°C, mais dire que 30°C est \"deux fois plus chaud\" que 15°C n'a pas de sens.\n",
    "  \n",
    "- **Échelle de rapport** : Tant les différences que les ratios entre les valeurs peuvent être interprétés. Par exemple, la vitesse : 60 km/h est trois fois plus rapide que 20 km/h.\n",
    "\n",
    "- **Échelle absolue** : C'est similaire à l'échelle de rapport, mais les valeurs sont mesurées en unités naturelles sans unités artificielles. Par exemple, le nombre de semestres étudiés.\n",
    "\n",
    "### Données Groupées\n",
    "Les données groupées sont des données qui ont été organisées en classes ou intervalles pour simplifier leur analyse. Par exemple, les âges peuvent être regroupés en intervalles comme 0-10 ans, 11-20 ans, etc. Cela permet de mieux visualiser et analyser les données en les résumant par groupe plutôt qu'en examinant chaque observation individuellement.\n",
    "\n",
    "Ces échelles et concepts vous aident à choisir les méthodes statistiques appropriées pour analyser vos données en fonction de leur nature."
   ],
   "id": "abe3490477a43c6a"
  },
  {
   "metadata": {},
   "cell_type": "markdown",
   "source": "",
   "id": "b5a25f0d77dbc402"
  }
 ],
 "metadata": {
  "kernelspec": {
   "display_name": "Python 3",
   "language": "python",
   "name": "python3"
  },
  "language_info": {
   "codemirror_mode": {
    "name": "ipython",
    "version": 2
   },
   "file_extension": ".py",
   "mimetype": "text/x-python",
   "name": "python",
   "nbconvert_exporter": "python",
   "pygments_lexer": "ipython2",
   "version": "2.7.6"
  }
 },
 "nbformat": 4,
 "nbformat_minor": 5
}
