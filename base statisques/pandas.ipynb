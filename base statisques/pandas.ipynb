{
 "cells": [
  {
   "cell_type": "code",
   "id": "initial_id",
   "metadata": {
    "collapsed": true,
    "ExecuteTime": {
     "end_time": "2024-08-03T19:40:02.549882Z",
     "start_time": "2024-08-03T19:40:02.540470Z"
    }
   },
   "source": [
    "file = \"/home/smallziz/PycharmProjects/proba statisques avexc python/datasets/pizza_delivery.csv\"\n",
    "\n"
   ],
   "outputs": [],
   "execution_count": 3
  },
  {
   "metadata": {
    "ExecuteTime": {
     "end_time": "2024-08-03T19:42:50.342839Z",
     "start_time": "2024-08-03T19:42:50.293430Z"
    }
   },
   "cell_type": "code",
   "source": [
    "import pandas as pd\n",
    "df = pd.read_csv(file)\n",
    "\n",
    "df.head()"
   ],
   "id": "fe945417841b02cd",
   "outputs": [
    {
     "data": {
      "text/plain": [
       "        day       date       time operator branch     driver  temperature  \\\n",
       "0  Thursday  01-May-14  35.128367    Laura   East      Bruno    68.287716   \n",
       "1  Thursday  01-May-14  25.203074  Melissa   East  Salvatore    70.997791   \n",
       "2  Thursday  01-May-14  45.643404  Melissa   West  Salvatore    53.394145   \n",
       "3  Thursday  01-May-14  29.374298  Melissa   East  Salvatore    70.306596   \n",
       "4  Thursday  01-May-14  29.994610  Melissa   West  Salvatore    71.501688   \n",
       "\n",
       "   bill  pizzas  free_wine  got_wine  discount_customer  \n",
       "0  58.4       4          0         0                  1  \n",
       "1  26.4       2          0         0                  0  \n",
       "2  58.1       3          1         0                  0  \n",
       "3  35.2       3          0         0                  0  \n",
       "4  38.4       2          0         0                  0  "
      ],
      "text/html": [
       "<div>\n",
       "<style scoped>\n",
       "    .dataframe tbody tr th:only-of-type {\n",
       "        vertical-align: middle;\n",
       "    }\n",
       "\n",
       "    .dataframe tbody tr th {\n",
       "        vertical-align: top;\n",
       "    }\n",
       "\n",
       "    .dataframe thead th {\n",
       "        text-align: right;\n",
       "    }\n",
       "</style>\n",
       "<table border=\"1\" class=\"dataframe\">\n",
       "  <thead>\n",
       "    <tr style=\"text-align: right;\">\n",
       "      <th></th>\n",
       "      <th>day</th>\n",
       "      <th>date</th>\n",
       "      <th>time</th>\n",
       "      <th>operator</th>\n",
       "      <th>branch</th>\n",
       "      <th>driver</th>\n",
       "      <th>temperature</th>\n",
       "      <th>bill</th>\n",
       "      <th>pizzas</th>\n",
       "      <th>free_wine</th>\n",
       "      <th>got_wine</th>\n",
       "      <th>discount_customer</th>\n",
       "    </tr>\n",
       "  </thead>\n",
       "  <tbody>\n",
       "    <tr>\n",
       "      <th>0</th>\n",
       "      <td>Thursday</td>\n",
       "      <td>01-May-14</td>\n",
       "      <td>35.128367</td>\n",
       "      <td>Laura</td>\n",
       "      <td>East</td>\n",
       "      <td>Bruno</td>\n",
       "      <td>68.287716</td>\n",
       "      <td>58.4</td>\n",
       "      <td>4</td>\n",
       "      <td>0</td>\n",
       "      <td>0</td>\n",
       "      <td>1</td>\n",
       "    </tr>\n",
       "    <tr>\n",
       "      <th>1</th>\n",
       "      <td>Thursday</td>\n",
       "      <td>01-May-14</td>\n",
       "      <td>25.203074</td>\n",
       "      <td>Melissa</td>\n",
       "      <td>East</td>\n",
       "      <td>Salvatore</td>\n",
       "      <td>70.997791</td>\n",
       "      <td>26.4</td>\n",
       "      <td>2</td>\n",
       "      <td>0</td>\n",
       "      <td>0</td>\n",
       "      <td>0</td>\n",
       "    </tr>\n",
       "    <tr>\n",
       "      <th>2</th>\n",
       "      <td>Thursday</td>\n",
       "      <td>01-May-14</td>\n",
       "      <td>45.643404</td>\n",
       "      <td>Melissa</td>\n",
       "      <td>West</td>\n",
       "      <td>Salvatore</td>\n",
       "      <td>53.394145</td>\n",
       "      <td>58.1</td>\n",
       "      <td>3</td>\n",
       "      <td>1</td>\n",
       "      <td>0</td>\n",
       "      <td>0</td>\n",
       "    </tr>\n",
       "    <tr>\n",
       "      <th>3</th>\n",
       "      <td>Thursday</td>\n",
       "      <td>01-May-14</td>\n",
       "      <td>29.374298</td>\n",
       "      <td>Melissa</td>\n",
       "      <td>East</td>\n",
       "      <td>Salvatore</td>\n",
       "      <td>70.306596</td>\n",
       "      <td>35.2</td>\n",
       "      <td>3</td>\n",
       "      <td>0</td>\n",
       "      <td>0</td>\n",
       "      <td>0</td>\n",
       "    </tr>\n",
       "    <tr>\n",
       "      <th>4</th>\n",
       "      <td>Thursday</td>\n",
       "      <td>01-May-14</td>\n",
       "      <td>29.994610</td>\n",
       "      <td>Melissa</td>\n",
       "      <td>West</td>\n",
       "      <td>Salvatore</td>\n",
       "      <td>71.501688</td>\n",
       "      <td>38.4</td>\n",
       "      <td>2</td>\n",
       "      <td>0</td>\n",
       "      <td>0</td>\n",
       "      <td>0</td>\n",
       "    </tr>\n",
       "  </tbody>\n",
       "</table>\n",
       "</div>"
      ]
     },
     "execution_count": 7,
     "metadata": {},
     "output_type": "execute_result"
    }
   ],
   "execution_count": 7
  }
 ],
 "metadata": {
  "kernelspec": {
   "display_name": "Python 3",
   "language": "python",
   "name": "python3"
  },
  "language_info": {
   "codemirror_mode": {
    "name": "ipython",
    "version": 2
   },
   "file_extension": ".py",
   "mimetype": "text/x-python",
   "name": "python",
   "nbconvert_exporter": "python",
   "pygments_lexer": "ipython2",
   "version": "2.7.6"
  }
 },
 "nbformat": 4,
 "nbformat_minor": 5
}
